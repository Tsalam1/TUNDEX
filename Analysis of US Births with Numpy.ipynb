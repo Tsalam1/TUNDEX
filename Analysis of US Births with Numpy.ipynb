{
 "cells": [
  {
   "cell_type": "markdown",
   "id": "b697a547",
   "metadata": {},
   "source": [
    "# U.S Birth Data Analysis\n",
    "    #use us_births data to compute the following using np:\n",
    "        #extract the year, gender and births column from the data\n",
    "        #compute the aggregation of sum of total birth, sum of female birth and sum of male birth, mean and median\n",
    "        #compute the maximum births and minimum births\n",
    "        #indicate the gender with minimum birth and maximum birth\n",
    "        #indicate the year with minimum birth and maximum birth"
   ]
  },
  {
   "cell_type": "code",
   "execution_count": 1,
   "id": "6112c4fe",
   "metadata": {},
   "outputs": [],
   "source": [
    "import numpy as np\n",
    "import pandas as pd\n",
    "import matplotlib.pyplot as plt"
   ]
  },
  {
   "cell_type": "markdown",
   "id": "e9a57d60",
   "metadata": {},
   "source": [
    "# Importing the dataset"
   ]
  },
  {
   "cell_type": "code",
   "execution_count": 4,
   "id": "68970fca",
   "metadata": {},
   "outputs": [
    {
     "data": {
      "text/html": [
       "<div>\n",
       "<style scoped>\n",
       "    .dataframe tbody tr th:only-of-type {\n",
       "        vertical-align: middle;\n",
       "    }\n",
       "\n",
       "    .dataframe tbody tr th {\n",
       "        vertical-align: top;\n",
       "    }\n",
       "\n",
       "    .dataframe thead th {\n",
       "        text-align: right;\n",
       "    }\n",
       "</style>\n",
       "<table border=\"1\" class=\"dataframe\">\n",
       "  <thead>\n",
       "    <tr style=\"text-align: right;\">\n",
       "      <th></th>\n",
       "      <th>year</th>\n",
       "      <th>month</th>\n",
       "      <th>day</th>\n",
       "      <th>gender</th>\n",
       "      <th>births</th>\n",
       "    </tr>\n",
       "  </thead>\n",
       "  <tbody>\n",
       "    <tr>\n",
       "      <th>0</th>\n",
       "      <td>1969</td>\n",
       "      <td>1</td>\n",
       "      <td>1.0</td>\n",
       "      <td>F</td>\n",
       "      <td>4046</td>\n",
       "    </tr>\n",
       "    <tr>\n",
       "      <th>1</th>\n",
       "      <td>1969</td>\n",
       "      <td>1</td>\n",
       "      <td>1.0</td>\n",
       "      <td>M</td>\n",
       "      <td>4440</td>\n",
       "    </tr>\n",
       "    <tr>\n",
       "      <th>2</th>\n",
       "      <td>1969</td>\n",
       "      <td>1</td>\n",
       "      <td>2.0</td>\n",
       "      <td>F</td>\n",
       "      <td>4454</td>\n",
       "    </tr>\n",
       "    <tr>\n",
       "      <th>3</th>\n",
       "      <td>1969</td>\n",
       "      <td>1</td>\n",
       "      <td>2.0</td>\n",
       "      <td>M</td>\n",
       "      <td>4548</td>\n",
       "    </tr>\n",
       "    <tr>\n",
       "      <th>4</th>\n",
       "      <td>1969</td>\n",
       "      <td>1</td>\n",
       "      <td>3.0</td>\n",
       "      <td>F</td>\n",
       "      <td>4548</td>\n",
       "    </tr>\n",
       "  </tbody>\n",
       "</table>\n",
       "</div>"
      ],
      "text/plain": [
       "   year  month  day gender  births\n",
       "0  1969      1  1.0      F    4046\n",
       "1  1969      1  1.0      M    4440\n",
       "2  1969      1  2.0      F    4454\n",
       "3  1969      1  2.0      M    4548\n",
       "4  1969      1  3.0      F    4548"
      ]
     },
     "execution_count": 4,
     "metadata": {},
     "output_type": "execute_result"
    }
   ],
   "source": [
    "us_birth = pd.read_csv(\"C:\\\\Users\\\\MY LAPTOP\\\\Desktop\\\\SQI\\\\Data Science\\\\Numpy\\\\Datasets\\\\us_births.csv\")\n",
    "us_birth.head()"
   ]
  },
  {
   "cell_type": "code",
   "execution_count": 25,
   "id": "7ecf1a8b",
   "metadata": {},
   "outputs": [
    {
     "name": "stdout",
     "output_type": "stream",
     "text": [
      "<class 'pandas.core.frame.DataFrame'>\n",
      "RangeIndex: 15547 entries, 0 to 15546\n",
      "Data columns (total 5 columns):\n",
      " #   Column  Non-Null Count  Dtype  \n",
      "---  ------  --------------  -----  \n",
      " 0   year    15547 non-null  int64  \n",
      " 1   month   15547 non-null  int64  \n",
      " 2   day     15067 non-null  float64\n",
      " 3   gender  15547 non-null  object \n",
      " 4   births  15547 non-null  int64  \n",
      "dtypes: float64(1), int64(3), object(1)\n",
      "memory usage: 607.4+ KB\n"
     ]
    }
   ],
   "source": [
    "us_birth.info()"
   ]
  },
  {
   "cell_type": "markdown",
   "id": "648d910a",
   "metadata": {},
   "source": [
    "# Extracting the year, gender and births column from the data"
   ]
  },
  {
   "cell_type": "code",
   "execution_count": 5,
   "id": "d7b8d23c",
   "metadata": {},
   "outputs": [
    {
     "name": "stdout",
     "output_type": "stream",
     "text": [
      "Year Column:\n",
      " [1969 1969 1969 ... 2008 2008 2008] \n",
      "\n",
      "Gender Column:\n",
      " ['F' 'M' 'F' ... 'M' 'F' 'M'] \n",
      "\n",
      "Births Column:\n",
      " [  4046   4440   4454 ... 165468 173215 181235]\n"
     ]
    }
   ],
   "source": [
    "birth_year = np.array(us_birth['year'])\n",
    "gend = np.array(us_birth['gender'])\n",
    "birth = np.array(us_birth['births'])\n",
    "print(\"Year Column:\\n\", birth_year, \"\\n\")\n",
    "print(\"Gender Column:\\n\", gend, \"\\n\")\n",
    "print(\"Births Column:\\n\", birth)"
   ]
  },
  {
   "cell_type": "markdown",
   "id": "881120f0",
   "metadata": {},
   "source": [
    "# Computing the aggregation of sum of total birth, sum of female birth and sum of male birth, mean and median"
   ]
  },
  {
   "cell_type": "code",
   "execution_count": 45,
   "id": "cba9eb93",
   "metadata": {},
   "outputs": [
    {
     "name": "stdout",
     "output_type": "stream",
     "text": [
      "Total birth:   151774378\n"
     ]
    }
   ],
   "source": [
    "# Sum of births\n",
    "print(\"Total birth:  \", birth.sum())"
   ]
  },
  {
   "cell_type": "code",
   "execution_count": 46,
   "id": "0fa443e4",
   "metadata": {},
   "outputs": [],
   "source": [
    "# Computing sum of female birth and sum of male birth\n",
    "fe = [] # female birth list\n",
    "ma = [] # male birth list\n",
    "for x, y in zip(us_birth[\"gender\"], us_birth[\"births\"]):\n",
    "    if x == \"F\":\n",
    "        fe.append(y)\n",
    "    else:\n",
    "        ma.append(y)\n",
    "# print(\"female births:\\n\", fe)\n",
    "# print(\"male births:\\n\", ma)"
   ]
  },
  {
   "cell_type": "code",
   "execution_count": 47,
   "id": "a6ddb9b5",
   "metadata": {},
   "outputs": [
    {
     "data": {
      "text/plain": [
       "74035823"
      ]
     },
     "execution_count": 47,
     "metadata": {},
     "output_type": "execute_result"
    }
   ],
   "source": [
    "# Sum of female birth\n",
    "#sum(fe) # python method\n",
    "fem = np.array(fe) #converting list to np array\n",
    "fem.sum()"
   ]
  },
  {
   "cell_type": "code",
   "execution_count": 48,
   "id": "4dc308ca",
   "metadata": {},
   "outputs": [
    {
     "data": {
      "text/plain": [
       "77738555"
      ]
     },
     "execution_count": 48,
     "metadata": {},
     "output_type": "execute_result"
    }
   ],
   "source": [
    "# Sum of male birth\n",
    "#sum(ma) # python method\n",
    "mal = np.array(ma) # converting list to np array\n",
    "mal.sum()"
   ]
  },
  {
   "cell_type": "code",
   "execution_count": 49,
   "id": "75b52dd3",
   "metadata": {},
   "outputs": [
    {
     "name": "stdout",
     "output_type": "stream",
     "text": [
      "Mean birth:   9762.293561458802 \n",
      "\n",
      "Median birth:   4814.0\n"
     ]
    }
   ],
   "source": [
    "# Computing mean and meadian birth\n",
    "print(\"Mean birth:  \", np.mean(birth), \"\\n\")\n",
    "print(\"Median birth:  \", np.median(birth))"
   ]
  },
  {
   "cell_type": "code",
   "execution_count": 50,
   "id": "a6e277ae",
   "metadata": {},
   "outputs": [
    {
     "name": "stdout",
     "output_type": "stream",
     "text": [
      "Maximum birth:   199622 \n",
      "\n",
      "Minimum birth:   1\n"
     ]
    }
   ],
   "source": [
    "# computing the maximum births and minimum births\n",
    "print(\"Maximum birth:  \", np.max(birth), \"\\n\")\n",
    "print(\"Minimum birth:  \", np.min(birth))"
   ]
  },
  {
   "cell_type": "code",
   "execution_count": 51,
   "id": "8e1b50fa",
   "metadata": {},
   "outputs": [
    {
     "name": "stdout",
     "output_type": "stream",
     "text": [
      "Gender with minimum birth:  F\n",
      "Index of minimum birth:  4715 \n",
      "\n",
      "Gender with maximun birth:  M\n",
      "Index of maximum birth:  15514\n"
     ]
    }
   ],
   "source": [
    "# Indicate the gender with minimum birth and maximum birth\n",
    "print(\"Gender with minimum birth: \", gend[birth.argmin()])\n",
    "print(\"Index of minimum birth: \", birth.argmin(), \"\\n\")\n",
    "\n",
    "print(\"Gender with maximun birth: \", gend[birth.argmax()])\n",
    "print(\"Index of maximum birth: \", birth.argmax())"
   ]
  },
  {
   "cell_type": "code",
   "execution_count": 52,
   "id": "4c7f9815",
   "metadata": {},
   "outputs": [
    {
     "name": "stdout",
     "output_type": "stream",
     "text": [
      "Year with minimum birth:  1975 \n",
      "\n",
      "Year with maximum birth:  2007\n"
     ]
    }
   ],
   "source": [
    "# Indicate the year with minimum birth and maximum birth\n",
    "print(\"Year with minimum birth: \", birth_year[birth.argmin()], '\\n')\n",
    "print(\"Year with maximum birth: \", birth_year[birth.argmax()])"
   ]
  }
 ],
 "metadata": {
  "kernelspec": {
   "display_name": "Python 3 (ipykernel)",
   "language": "python",
   "name": "python3"
  },
  "language_info": {
   "codemirror_mode": {
    "name": "ipython",
    "version": 3
   },
   "file_extension": ".py",
   "mimetype": "text/x-python",
   "name": "python",
   "nbconvert_exporter": "python",
   "pygments_lexer": "ipython3",
   "version": "3.9.7"
  }
 },
 "nbformat": 4,
 "nbformat_minor": 5
}
